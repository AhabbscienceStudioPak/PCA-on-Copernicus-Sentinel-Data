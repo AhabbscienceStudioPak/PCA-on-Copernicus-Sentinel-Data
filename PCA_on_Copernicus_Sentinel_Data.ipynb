{
  "nbformat": 4,
  "nbformat_minor": 0,
  "metadata": {
    "colab": {
      "provenance": [],
      "toc_visible": true,
      "authorship_tag": "ABX9TyONBHxkkSI/Q/ntYCqpIzYS",
      "include_colab_link": true
    },
    "kernelspec": {
      "name": "python3",
      "display_name": "Python 3"
    },
    "language_info": {
      "name": "python"
    }
  },
  "cells": [
    {
      "cell_type": "markdown",
      "metadata": {
        "id": "view-in-github",
        "colab_type": "text"
      },
      "source": [
        "<a href=\"https://colab.research.google.com/github/AhabbscienceStudioPak/PCA-on-Copernicus-Sentinel-Data/blob/main/PCA_on_Copernicus_Sentinel_Data.ipynb\" target=\"_parent\"><img src=\"https://colab.research.google.com/assets/colab-badge.svg\" alt=\"Open In Colab\"/></a>"
      ]
    },
    {
      "cell_type": "markdown",
      "source": [
        "# PCA on Copernicus Sentinel Data\n",
        "Developed by Ahabb Sheraz for Linear Algebra Course (ES304) CEP. <br>\n",
        "\n",
        "Earth observation satellites employ various camera types to capture images of the Earth's land cover. A commonly used camera in this field is the multispectral camera, which captures multispectral images of different Earth locations. Multispectral images share similarities with regular colored images used in our daily lives. However, unlike typical color images that have only three frequencies/spectral bands (Red, Green, and Blue), multispectral images typically consist of a more extensive range of bands, usually between 6 to 30. This increased number of bands allows for improved differentiation between various land cover types (such as crops, forests, water, and land) compared to using only regular colored/RGB images.\n",
        "\n",
        "Copernicus, administered by the European Union (EU), stands out as one of the world's largest earth observation programs. It utilizes Sentinel satellites to capture Earth images at different wavelengths from space. Similarly, Landsat, a program operated by the US government, serves a comparable purpose.\n",
        "\n",
        "\n",
        "Attributions: https://medium.com/@mahyar.aboutalebi/downloading-sentinel-2-imagery-in-python-with-google-colab-updated-nov-2023-f21d75a92407"
      ],
      "metadata": {
        "id": "A9IFbYTJ-Dve"
      }
    },
    {
      "cell_type": "markdown",
      "source": [
        "## Install Dependencies"
      ],
      "metadata": {
        "id": "4UPmtxnxFfUl"
      }
    },
    {
      "cell_type": "code",
      "execution_count": null,
      "metadata": {
        "colab": {
          "base_uri": "https://localhost:8080/"
        },
        "id": "Knve_CrTr9ql",
        "outputId": "4075333a-4904-4064-c9c5-606d8ffcddd5"
      },
      "outputs": [
        {
          "output_type": "stream",
          "name": "stdout",
          "text": [
            "Requirement already satisfied: pandas in /usr/local/lib/python3.10/dist-packages (1.5.3)\n",
            "Requirement already satisfied: rasterio in /usr/local/lib/python3.10/dist-packages (1.3.9)\n",
            "Requirement already satisfied: python-dateutil>=2.8.1 in /usr/local/lib/python3.10/dist-packages (from pandas) (2.8.2)\n",
            "Requirement already satisfied: pytz>=2020.1 in /usr/local/lib/python3.10/dist-packages (from pandas) (2023.3.post1)\n",
            "Requirement already satisfied: numpy>=1.21.0 in /usr/local/lib/python3.10/dist-packages (from pandas) (1.23.5)\n",
            "Requirement already satisfied: affine in /usr/local/lib/python3.10/dist-packages (from rasterio) (2.4.0)\n",
            "Requirement already satisfied: attrs in /usr/local/lib/python3.10/dist-packages (from rasterio) (23.2.0)\n",
            "Requirement already satisfied: certifi in /usr/local/lib/python3.10/dist-packages (from rasterio) (2023.11.17)\n",
            "Requirement already satisfied: click>=4.0 in /usr/local/lib/python3.10/dist-packages (from rasterio) (8.1.7)\n",
            "Requirement already satisfied: cligj>=0.5 in /usr/local/lib/python3.10/dist-packages (from rasterio) (0.7.2)\n",
            "Requirement already satisfied: snuggs>=1.4.1 in /usr/local/lib/python3.10/dist-packages (from rasterio) (1.4.7)\n",
            "Requirement already satisfied: click-plugins in /usr/local/lib/python3.10/dist-packages (from rasterio) (1.1.1)\n",
            "Requirement already satisfied: setuptools in /usr/local/lib/python3.10/dist-packages (from rasterio) (67.7.2)\n",
            "Requirement already satisfied: six>=1.5 in /usr/local/lib/python3.10/dist-packages (from python-dateutil>=2.8.1->pandas) (1.16.0)\n",
            "Requirement already satisfied: pyparsing>=2.1.6 in /usr/local/lib/python3.10/dist-packages (from snuggs>=1.4.1->rasterio) (3.1.1)\n"
          ]
        }
      ],
      "source": [
        "!pip install pandas rasterio"
      ]
    },
    {
      "cell_type": "code",
      "source": [
        "import os\n",
        "import re\n",
        "import sys\n",
        "import random\n",
        "from pathlib import Path\n",
        "\n",
        "import requests\n",
        "import json\n",
        "import xml.etree.ElementTree as ET\n",
        "import certifi\n",
        "\n",
        "import pandas as pd\n",
        "import numpy as np\n",
        "\n",
        "import rasterio\n",
        "import matplotlib.pyplot as plt\n",
        "import matplotlib.image\n",
        "from rasterio.windows import Window"
      ],
      "metadata": {
        "id": "2Hvs85ZavB3u"
      },
      "execution_count": null,
      "outputs": []
    },
    {
      "cell_type": "markdown",
      "source": [
        "## Copernicus API Setup"
      ],
      "metadata": {
        "id": "bP6U2WMAGjOD"
      }
    },
    {
      "cell_type": "code",
      "source": [
        "url_dataspace = \"https://catalogue.dataspace.copernicus.eu/odata/v1\"\n",
        "\n",
        "# Filtering\n",
        "satellite = \"SENTINEL-2\"\n",
        "level = \"S2MSI2A\"\n",
        "cloud_cover_max = 0.2\n",
        "\n",
        "aoi_point =\"POINT(-120.9970 37.6393)\"\n",
        "aoi_polygon = \"POLYGON ((-121.0616 37.6391, -120.966 37.6391, -120.966 37.6987, -121.0616 37.6987, -121.0616 37.6391))\"\n",
        "\n",
        "start_date = \"2023-11-01\"\n",
        "end_date = \"2023-11-10\"\n",
        "start_date_full =start_date+\"T00:00:00.000Z\"\n",
        "end_date_full = end_date +\"T00:00:00.000Z\""
      ],
      "metadata": {
        "id": "qAdxMiplv3Nc"
      },
      "execution_count": null,
      "outputs": []
    },
    {
      "cell_type": "code",
      "source": [
        "query = f\"{url_dataspace}/Products?$filter=Collection/Name eq '{satellite}' and Attributes/OData.CSC.StringAttribute/any(att:att/Name eq 'productType' and att/OData.CSC.StringAttribute/Value eq '{level}') and OData.CSC.Intersects(area=geography'SRID=4326;{aoi_point}') and ContentDate/Start gt {start_date_full} and ContentDate/Start lt {end_date_full}\"\n",
        "response = requests.get(query).json()\n",
        "result = pd.DataFrame.from_dict(response[\"value\"])\n",
        "\n",
        "# Filter records where 'online' column is True\n",
        "#result = result[result['Online'] == True]\n",
        "\n",
        "# print first 10 results\n",
        "result.head(10)"
      ],
      "metadata": {
        "colab": {
          "base_uri": "https://localhost:8080/",
          "height": 319
        },
        "id": "pU0Me-ZiwEB5",
        "outputId": "faf9df27-b174-41f3-e505-3d8c6bc68396"
      },
      "execution_count": null,
      "outputs": [
        {
          "output_type": "execute_result",
          "data": {
            "text/plain": [
              "    @odata.mediaContentType                                    Id  \\\n",
              "0  application/octet-stream  1c7dcc3f-7c0a-4e26-9f2e-dbf19faff10e   \n",
              "1  application/octet-stream  8b4c912f-f54d-4b61-bca1-d4cae2e66c07   \n",
              "2  application/octet-stream  821980f4-4d14-4658-8072-e27003f06ea5   \n",
              "\n",
              "                                                Name  \\\n",
              "0  S2A_MSIL2A_20231102T184531_N0509_R070_T10SFG_2...   \n",
              "1  S2A_MSIL2A_20231105T185551_N0509_R113_T10SFG_2...   \n",
              "2  S2B_MSIL2A_20231107T184559_N0509_R070_T10SFG_2...   \n",
              "\n",
              "                ContentType  ContentLength                OriginDate  \\\n",
              "0  application/octet-stream      514963512  2023-11-03T00:09:45.089Z   \n",
              "1  application/octet-stream      950862763  2023-11-05T23:15:20.251Z   \n",
              "2  application/octet-stream      538085262  2023-11-07T22:25:05.431Z   \n",
              "\n",
              "            PublicationDate          ModificationDate  Online EvictionDate  \\\n",
              "0  2023-11-03T00:28:25.183Z  2023-12-12T19:41:06.766Z    True                \n",
              "1  2023-11-05T23:32:29.458Z  2023-12-13T01:44:19.060Z    True                \n",
              "2  2023-11-07T22:43:57.642Z  2023-12-20T18:10:53.204Z    True                \n",
              "\n",
              "                                              S3Path  \\\n",
              "0  /eodata/Sentinel-2/MSI/L2A/2023/11/02/S2A_MSIL...   \n",
              "1  /eodata/Sentinel-2/MSI/L2A/2023/11/05/S2A_MSIL...   \n",
              "2  /eodata/Sentinel-2/MSI/L2A/2023/11/07/S2B_MSIL...   \n",
              "\n",
              "                                            Checksum  \\\n",
              "0  [{'Value': '59a944f68bd6c21bd65956fdeb113124',...   \n",
              "1  [{'Value': '5fba36122824578f253e7385269dcaf0',...   \n",
              "2  [{'Value': '008c78bb15712ea9da208d0fc28b1056',...   \n",
              "\n",
              "                                         ContentDate  \\\n",
              "0  {'Start': '2023-11-02T18:45:31.024Z', 'End': '...   \n",
              "1  {'Start': '2023-11-05T18:55:51.024Z', 'End': '...   \n",
              "2  {'Start': '2023-11-07T18:45:59.024Z', 'End': '...   \n",
              "\n",
              "                                           Footprint  \\\n",
              "0  geography'SRID=4326;POLYGON ((-121.26198172100...   \n",
              "1  geography'SRID=4326;POLYGON ((-121.86192606806...   \n",
              "2  geography'SRID=4326;POLYGON ((-121.27475211534...   \n",
              "\n",
              "                                        GeoFootprint  \n",
              "0  {'type': 'Polygon', 'coordinates': [[[-121.261...  \n",
              "1  {'type': 'Polygon', 'coordinates': [[[-121.861...  \n",
              "2  {'type': 'Polygon', 'coordinates': [[[-121.274...  "
            ],
            "text/html": [
              "\n",
              "  <div id=\"df-30a8b4b1-f89b-4ac5-88e9-55aeefbbcdf7\" class=\"colab-df-container\">\n",
              "    <div>\n",
              "<style scoped>\n",
              "    .dataframe tbody tr th:only-of-type {\n",
              "        vertical-align: middle;\n",
              "    }\n",
              "\n",
              "    .dataframe tbody tr th {\n",
              "        vertical-align: top;\n",
              "    }\n",
              "\n",
              "    .dataframe thead th {\n",
              "        text-align: right;\n",
              "    }\n",
              "</style>\n",
              "<table border=\"1\" class=\"dataframe\">\n",
              "  <thead>\n",
              "    <tr style=\"text-align: right;\">\n",
              "      <th></th>\n",
              "      <th>@odata.mediaContentType</th>\n",
              "      <th>Id</th>\n",
              "      <th>Name</th>\n",
              "      <th>ContentType</th>\n",
              "      <th>ContentLength</th>\n",
              "      <th>OriginDate</th>\n",
              "      <th>PublicationDate</th>\n",
              "      <th>ModificationDate</th>\n",
              "      <th>Online</th>\n",
              "      <th>EvictionDate</th>\n",
              "      <th>S3Path</th>\n",
              "      <th>Checksum</th>\n",
              "      <th>ContentDate</th>\n",
              "      <th>Footprint</th>\n",
              "      <th>GeoFootprint</th>\n",
              "    </tr>\n",
              "  </thead>\n",
              "  <tbody>\n",
              "    <tr>\n",
              "      <th>0</th>\n",
              "      <td>application/octet-stream</td>\n",
              "      <td>1c7dcc3f-7c0a-4e26-9f2e-dbf19faff10e</td>\n",
              "      <td>S2A_MSIL2A_20231102T184531_N0509_R070_T10SFG_2...</td>\n",
              "      <td>application/octet-stream</td>\n",
              "      <td>514963512</td>\n",
              "      <td>2023-11-03T00:09:45.089Z</td>\n",
              "      <td>2023-11-03T00:28:25.183Z</td>\n",
              "      <td>2023-12-12T19:41:06.766Z</td>\n",
              "      <td>True</td>\n",
              "      <td></td>\n",
              "      <td>/eodata/Sentinel-2/MSI/L2A/2023/11/02/S2A_MSIL...</td>\n",
              "      <td>[{'Value': '59a944f68bd6c21bd65956fdeb113124',...</td>\n",
              "      <td>{'Start': '2023-11-02T18:45:31.024Z', 'End': '...</td>\n",
              "      <td>geography'SRID=4326;POLYGON ((-121.26198172100...</td>\n",
              "      <td>{'type': 'Polygon', 'coordinates': [[[-121.261...</td>\n",
              "    </tr>\n",
              "    <tr>\n",
              "      <th>1</th>\n",
              "      <td>application/octet-stream</td>\n",
              "      <td>8b4c912f-f54d-4b61-bca1-d4cae2e66c07</td>\n",
              "      <td>S2A_MSIL2A_20231105T185551_N0509_R113_T10SFG_2...</td>\n",
              "      <td>application/octet-stream</td>\n",
              "      <td>950862763</td>\n",
              "      <td>2023-11-05T23:15:20.251Z</td>\n",
              "      <td>2023-11-05T23:32:29.458Z</td>\n",
              "      <td>2023-12-13T01:44:19.060Z</td>\n",
              "      <td>True</td>\n",
              "      <td></td>\n",
              "      <td>/eodata/Sentinel-2/MSI/L2A/2023/11/05/S2A_MSIL...</td>\n",
              "      <td>[{'Value': '5fba36122824578f253e7385269dcaf0',...</td>\n",
              "      <td>{'Start': '2023-11-05T18:55:51.024Z', 'End': '...</td>\n",
              "      <td>geography'SRID=4326;POLYGON ((-121.86192606806...</td>\n",
              "      <td>{'type': 'Polygon', 'coordinates': [[[-121.861...</td>\n",
              "    </tr>\n",
              "    <tr>\n",
              "      <th>2</th>\n",
              "      <td>application/octet-stream</td>\n",
              "      <td>821980f4-4d14-4658-8072-e27003f06ea5</td>\n",
              "      <td>S2B_MSIL2A_20231107T184559_N0509_R070_T10SFG_2...</td>\n",
              "      <td>application/octet-stream</td>\n",
              "      <td>538085262</td>\n",
              "      <td>2023-11-07T22:25:05.431Z</td>\n",
              "      <td>2023-11-07T22:43:57.642Z</td>\n",
              "      <td>2023-12-20T18:10:53.204Z</td>\n",
              "      <td>True</td>\n",
              "      <td></td>\n",
              "      <td>/eodata/Sentinel-2/MSI/L2A/2023/11/07/S2B_MSIL...</td>\n",
              "      <td>[{'Value': '008c78bb15712ea9da208d0fc28b1056',...</td>\n",
              "      <td>{'Start': '2023-11-07T18:45:59.024Z', 'End': '...</td>\n",
              "      <td>geography'SRID=4326;POLYGON ((-121.27475211534...</td>\n",
              "      <td>{'type': 'Polygon', 'coordinates': [[[-121.274...</td>\n",
              "    </tr>\n",
              "  </tbody>\n",
              "</table>\n",
              "</div>\n",
              "    <div class=\"colab-df-buttons\">\n",
              "\n",
              "  <div class=\"colab-df-container\">\n",
              "    <button class=\"colab-df-convert\" onclick=\"convertToInteractive('df-30a8b4b1-f89b-4ac5-88e9-55aeefbbcdf7')\"\n",
              "            title=\"Convert this dataframe to an interactive table.\"\n",
              "            style=\"display:none;\">\n",
              "\n",
              "  <svg xmlns=\"http://www.w3.org/2000/svg\" height=\"24px\" viewBox=\"0 -960 960 960\">\n",
              "    <path d=\"M120-120v-720h720v720H120Zm60-500h600v-160H180v160Zm220 220h160v-160H400v160Zm0 220h160v-160H400v160ZM180-400h160v-160H180v160Zm440 0h160v-160H620v160ZM180-180h160v-160H180v160Zm440 0h160v-160H620v160Z\"/>\n",
              "  </svg>\n",
              "    </button>\n",
              "\n",
              "  <style>\n",
              "    .colab-df-container {\n",
              "      display:flex;\n",
              "      gap: 12px;\n",
              "    }\n",
              "\n",
              "    .colab-df-convert {\n",
              "      background-color: #E8F0FE;\n",
              "      border: none;\n",
              "      border-radius: 50%;\n",
              "      cursor: pointer;\n",
              "      display: none;\n",
              "      fill: #1967D2;\n",
              "      height: 32px;\n",
              "      padding: 0 0 0 0;\n",
              "      width: 32px;\n",
              "    }\n",
              "\n",
              "    .colab-df-convert:hover {\n",
              "      background-color: #E2EBFA;\n",
              "      box-shadow: 0px 1px 2px rgba(60, 64, 67, 0.3), 0px 1px 3px 1px rgba(60, 64, 67, 0.15);\n",
              "      fill: #174EA6;\n",
              "    }\n",
              "\n",
              "    .colab-df-buttons div {\n",
              "      margin-bottom: 4px;\n",
              "    }\n",
              "\n",
              "    [theme=dark] .colab-df-convert {\n",
              "      background-color: #3B4455;\n",
              "      fill: #D2E3FC;\n",
              "    }\n",
              "\n",
              "    [theme=dark] .colab-df-convert:hover {\n",
              "      background-color: #434B5C;\n",
              "      box-shadow: 0px 1px 3px 1px rgba(0, 0, 0, 0.15);\n",
              "      filter: drop-shadow(0px 1px 2px rgba(0, 0, 0, 0.3));\n",
              "      fill: #FFFFFF;\n",
              "    }\n",
              "  </style>\n",
              "\n",
              "    <script>\n",
              "      const buttonEl =\n",
              "        document.querySelector('#df-30a8b4b1-f89b-4ac5-88e9-55aeefbbcdf7 button.colab-df-convert');\n",
              "      buttonEl.style.display =\n",
              "        google.colab.kernel.accessAllowed ? 'block' : 'none';\n",
              "\n",
              "      async function convertToInteractive(key) {\n",
              "        const element = document.querySelector('#df-30a8b4b1-f89b-4ac5-88e9-55aeefbbcdf7');\n",
              "        const dataTable =\n",
              "          await google.colab.kernel.invokeFunction('convertToInteractive',\n",
              "                                                    [key], {});\n",
              "        if (!dataTable) return;\n",
              "\n",
              "        const docLinkHtml = 'Like what you see? Visit the ' +\n",
              "          '<a target=\"_blank\" href=https://colab.research.google.com/notebooks/data_table.ipynb>data table notebook</a>'\n",
              "          + ' to learn more about interactive tables.';\n",
              "        element.innerHTML = '';\n",
              "        dataTable['output_type'] = 'display_data';\n",
              "        await google.colab.output.renderOutput(dataTable, element);\n",
              "        const docLink = document.createElement('div');\n",
              "        docLink.innerHTML = docLinkHtml;\n",
              "        element.appendChild(docLink);\n",
              "      }\n",
              "    </script>\n",
              "  </div>\n",
              "\n",
              "\n",
              "<div id=\"df-6cd1f248-347e-4c7e-a97f-98e5aafa232c\">\n",
              "  <button class=\"colab-df-quickchart\" onclick=\"quickchart('df-6cd1f248-347e-4c7e-a97f-98e5aafa232c')\"\n",
              "            title=\"Suggest charts\"\n",
              "            style=\"display:none;\">\n",
              "\n",
              "<svg xmlns=\"http://www.w3.org/2000/svg\" height=\"24px\"viewBox=\"0 0 24 24\"\n",
              "     width=\"24px\">\n",
              "    <g>\n",
              "        <path d=\"M19 3H5c-1.1 0-2 .9-2 2v14c0 1.1.9 2 2 2h14c1.1 0 2-.9 2-2V5c0-1.1-.9-2-2-2zM9 17H7v-7h2v7zm4 0h-2V7h2v10zm4 0h-2v-4h2v4z\"/>\n",
              "    </g>\n",
              "</svg>\n",
              "  </button>\n",
              "\n",
              "<style>\n",
              "  .colab-df-quickchart {\n",
              "      --bg-color: #E8F0FE;\n",
              "      --fill-color: #1967D2;\n",
              "      --hover-bg-color: #E2EBFA;\n",
              "      --hover-fill-color: #174EA6;\n",
              "      --disabled-fill-color: #AAA;\n",
              "      --disabled-bg-color: #DDD;\n",
              "  }\n",
              "\n",
              "  [theme=dark] .colab-df-quickchart {\n",
              "      --bg-color: #3B4455;\n",
              "      --fill-color: #D2E3FC;\n",
              "      --hover-bg-color: #434B5C;\n",
              "      --hover-fill-color: #FFFFFF;\n",
              "      --disabled-bg-color: #3B4455;\n",
              "      --disabled-fill-color: #666;\n",
              "  }\n",
              "\n",
              "  .colab-df-quickchart {\n",
              "    background-color: var(--bg-color);\n",
              "    border: none;\n",
              "    border-radius: 50%;\n",
              "    cursor: pointer;\n",
              "    display: none;\n",
              "    fill: var(--fill-color);\n",
              "    height: 32px;\n",
              "    padding: 0;\n",
              "    width: 32px;\n",
              "  }\n",
              "\n",
              "  .colab-df-quickchart:hover {\n",
              "    background-color: var(--hover-bg-color);\n",
              "    box-shadow: 0 1px 2px rgba(60, 64, 67, 0.3), 0 1px 3px 1px rgba(60, 64, 67, 0.15);\n",
              "    fill: var(--button-hover-fill-color);\n",
              "  }\n",
              "\n",
              "  .colab-df-quickchart-complete:disabled,\n",
              "  .colab-df-quickchart-complete:disabled:hover {\n",
              "    background-color: var(--disabled-bg-color);\n",
              "    fill: var(--disabled-fill-color);\n",
              "    box-shadow: none;\n",
              "  }\n",
              "\n",
              "  .colab-df-spinner {\n",
              "    border: 2px solid var(--fill-color);\n",
              "    border-color: transparent;\n",
              "    border-bottom-color: var(--fill-color);\n",
              "    animation:\n",
              "      spin 1s steps(1) infinite;\n",
              "  }\n",
              "\n",
              "  @keyframes spin {\n",
              "    0% {\n",
              "      border-color: transparent;\n",
              "      border-bottom-color: var(--fill-color);\n",
              "      border-left-color: var(--fill-color);\n",
              "    }\n",
              "    20% {\n",
              "      border-color: transparent;\n",
              "      border-left-color: var(--fill-color);\n",
              "      border-top-color: var(--fill-color);\n",
              "    }\n",
              "    30% {\n",
              "      border-color: transparent;\n",
              "      border-left-color: var(--fill-color);\n",
              "      border-top-color: var(--fill-color);\n",
              "      border-right-color: var(--fill-color);\n",
              "    }\n",
              "    40% {\n",
              "      border-color: transparent;\n",
              "      border-right-color: var(--fill-color);\n",
              "      border-top-color: var(--fill-color);\n",
              "    }\n",
              "    60% {\n",
              "      border-color: transparent;\n",
              "      border-right-color: var(--fill-color);\n",
              "    }\n",
              "    80% {\n",
              "      border-color: transparent;\n",
              "      border-right-color: var(--fill-color);\n",
              "      border-bottom-color: var(--fill-color);\n",
              "    }\n",
              "    90% {\n",
              "      border-color: transparent;\n",
              "      border-bottom-color: var(--fill-color);\n",
              "    }\n",
              "  }\n",
              "</style>\n",
              "\n",
              "  <script>\n",
              "    async function quickchart(key) {\n",
              "      const quickchartButtonEl =\n",
              "        document.querySelector('#' + key + ' button');\n",
              "      quickchartButtonEl.disabled = true;  // To prevent multiple clicks.\n",
              "      quickchartButtonEl.classList.add('colab-df-spinner');\n",
              "      try {\n",
              "        const charts = await google.colab.kernel.invokeFunction(\n",
              "            'suggestCharts', [key], {});\n",
              "      } catch (error) {\n",
              "        console.error('Error during call to suggestCharts:', error);\n",
              "      }\n",
              "      quickchartButtonEl.classList.remove('colab-df-spinner');\n",
              "      quickchartButtonEl.classList.add('colab-df-quickchart-complete');\n",
              "    }\n",
              "    (() => {\n",
              "      let quickchartButtonEl =\n",
              "        document.querySelector('#df-6cd1f248-347e-4c7e-a97f-98e5aafa232c button');\n",
              "      quickchartButtonEl.style.display =\n",
              "        google.colab.kernel.accessAllowed ? 'block' : 'none';\n",
              "    })();\n",
              "  </script>\n",
              "</div>\n",
              "\n",
              "    </div>\n",
              "  </div>\n"
            ]
          },
          "metadata": {},
          "execution_count": 5
        }
      ]
    },
    {
      "cell_type": "code",
      "source": [
        "username = \"<username>\"\n",
        "password = \"<password>\"\n",
        "\n",
        "\n",
        "auth_server_url = \"https://identity.dataspace.copernicus.eu/auth/realms/CDSE/protocol/openid-connect/token\"\n",
        "data = {\n",
        "    \"client_id\": \"cdse-public\",\n",
        "    \"grant_type\": \"password\",\n",
        "    \"username\": username,\n",
        "    \"password\": password,\n",
        "}\n",
        "\n",
        "response = requests.post(auth_server_url, data=data, verify=True, allow_redirects=False)\n",
        "access_token = json.loads(response.text)[\"access_token\"]"
      ],
      "metadata": {
        "id": "qyURIX_i1gG9"
      },
      "execution_count": null,
      "outputs": []
    },
    {
      "cell_type": "code",
      "source": [
        "# Establish session\n",
        "session = requests.Session()\n",
        "session.headers[\"Authorization\"] = f\"Bearer {access_token}\""
      ],
      "metadata": {
        "id": "EpKo7gzb2f7O"
      },
      "execution_count": null,
      "outputs": []
    },
    {
      "cell_type": "markdown",
      "source": [
        "## Download the jp2 files"
      ],
      "metadata": {
        "id": "bxVQoGyIHW2C"
      }
    },
    {
      "cell_type": "code",
      "source": [
        "product_row_id = 0   # 0 for the first product in the list\n",
        "product_id = result.iloc[product_row_id, 1]\n",
        "print(product_id)\n",
        "product_name = result.iloc[product_row_id, 2]\n",
        "print(product_name)\n",
        "\n",
        "url_MTD = f\"{url_dataspace}/Products({product_id})/Nodes({product_name})/Nodes(MTD_MSIL2A.xml)/$value\"\n",
        "response = session.get(url_MTD, allow_redirects=False)\n",
        "while response.status_code in (301, 302, 303, 307):\n",
        "    url_MTD_location = response.headers[\"Location\"]\n",
        "    response = session.get(url_MTD_location, allow_redirects=False)\n",
        "\n",
        "file = session.get(url_MTD_location, verify=False, allow_redirects=True)\n",
        "\n",
        "# Save the product in home directory\n",
        "outfile = Path(\"/content/MTD_MSIL2A.xml\")\n",
        "outfile.write_bytes(file.content)"
      ],
      "metadata": {
        "colab": {
          "base_uri": "https://localhost:8080/"
        },
        "id": "qcM_CR5a2lKK",
        "outputId": "8dc0bc4b-14e0-4bec-ccf5-6fea9f7d7ac1"
      },
      "execution_count": null,
      "outputs": [
        {
          "output_type": "stream",
          "name": "stdout",
          "text": [
            "1c7dcc3f-7c0a-4e26-9f2e-dbf19faff10e\n",
            "S2A_MSIL2A_20231102T184531_N0509_R070_T10SFG_20231102T231756.SAFE\n"
          ]
        },
        {
          "output_type": "execute_result",
          "data": {
            "text/plain": [
              "55083"
            ]
          },
          "metadata": {},
          "execution_count": 8
        }
      ]
    },
    {
      "cell_type": "markdown",
      "source": [
        "After executing these lines, you should find the metadata file in your folder. In the following lines, we will read the metadata to identify the file path of each Sentinel-2 band. The index line used within “root” is described in this screenshot:\n",
        "\n",
        "<img src=\"https://miro.medium.com/v2/resize:fit:828/format:webp/1*KbJESv9qPu0C8Ku_7VeJRQ.jpeg\"/>"
      ],
      "metadata": {
        "id": "PaWy08Za3O6y"
      }
    },
    {
      "cell_type": "markdown",
      "source": [
        "The Sentinel-2 satellites carry a Multispectral Imager (MSI) that provides 13 spectral bands with varying pixel sizes, ranging from 10 to 60 meters. This information is valuable for various applications, including land cover mapping, vegetation monitoring, and water resource management.\n",
        "\n",
        "Here's a breakdown of the Sentinel-2 bands:\n",
        "\n",
        "| Band | Resolution | Central Wavelength | Description |\n",
        "|---|---|---|---|\n",
        "| B1 | 60 m | 443 nm | Ultra Blue (Coastal and Aerosol) |\n",
        "| B2 | 10 m | 490 nm | Blue |\n",
        "| B3 | 10 m | 560 nm | Green |\n",
        "| B4 | 10 m | 665 nm | Red |\n",
        "| B5 | 20 m | 705 nm | Visible and Near Infrared (VNIR) |\n",
        "| B6 | 20 m | 740 nm | Visible and Near Infrared (VNIR) |\n",
        "| B7 | 20 m | 783 nm | Visible and Near Infrared (VNIR) |\n",
        "| B8 | 10 m | 842 nm | Visible and Near Infrared (VNIR) |\n",
        "| B8A | 20 m | 865 nm | Visible and Near Infrared (VNIR) |\n",
        "| B9 | 60 m | 940 nm | Short Wave Infrared (SWIR) |\n",
        "| B10 | 60 m | 1375 nm | Short Wave Infrared (SWIR) |\n",
        "| B11 | 20 m | 1610 nm | Short Wave Infrared (SWIR) |\n",
        "| B12 | 20 m | 2190 nm | Short Wave Infrared (SWIR) |\n",
        "\n",
        "**Sentinel-2 bands by resolution:**\n",
        "\n",
        "* **10 meters:** Blue (B2), Green (B3), Red (B4), and Near-infrared (B8)\n",
        "* **20 meters:** Red edge (B5), Near-infrared NIR (B6, B7, and B8A), and Short-wave infrared SWIR (B11 and B12)\n",
        "* **60 meters:** Coastal aerosol (B1) and cirrus band (B10)\n",
        "\n",
        "**Applications of Sentinel-2 bands:**\n",
        "\n",
        "* **B1 and B10:** Coastal water quality monitoring, aerosol detection\n",
        "* **B2-B4:** Land cover mapping, vegetation monitoring, urban planning\n",
        "* **B5-B8A:** Vegetation health assessment, water resource management\n",
        "* **B9-B12:** Mineral exploration, soil moisture mapping\n",
        "\n",
        "By understanding the characteristics and applications of each band, we can effectively leverage Sentinel-2 data for various Earth observation tasks.\n"
      ],
      "metadata": {
        "id": "aKaztKBi4w1k"
      }
    },
    {
      "cell_type": "code",
      "source": [
        "# Pass the path of the xml document\n",
        "tree = ET.parse(str(outfile))\n",
        "# get the parent tag\n",
        "root = tree.getroot()\n",
        "\n",
        "# Get the location of individual bands in Sentinel-2 granule\n",
        "band_path = []\n",
        "band_path.append(f\"{product_name}/{root[0][0][12][0][0][0].text}.jp2\".split(\"/\"))\n",
        "band_path.append(f\"{product_name}/{root[0][0][12][0][0][1].text}.jp2\".split(\"/\"))\n",
        "band_path.append(f\"{product_name}/{root[0][0][12][0][0][2].text}.jp2\".split(\"/\"))\n",
        "band_path.append(f\"{product_name}/{root[0][0][12][0][0][3].text}.jp2\".split(\"/\"))"
      ],
      "metadata": {
        "id": "KWL71BoO2x59"
      },
      "execution_count": null,
      "outputs": []
    },
    {
      "cell_type": "code",
      "source": [
        "band_path"
      ],
      "metadata": {
        "colab": {
          "base_uri": "https://localhost:8080/"
        },
        "id": "-0JVouxo3itn",
        "outputId": "cdff10d1-27c2-47be-b10b-f4a40c079649"
      },
      "execution_count": null,
      "outputs": [
        {
          "output_type": "execute_result",
          "data": {
            "text/plain": [
              "[['S2A_MSIL2A_20231102T184531_N0509_R070_T10SFG_20231102T231756.SAFE',\n",
              "  'GRANULE',\n",
              "  'L2A_T10SFG_A043682_20231102T184854',\n",
              "  'IMG_DATA',\n",
              "  'R10m',\n",
              "  'T10SFG_20231102T184531_B02_10m.jp2'],\n",
              " ['S2A_MSIL2A_20231102T184531_N0509_R070_T10SFG_20231102T231756.SAFE',\n",
              "  'GRANULE',\n",
              "  'L2A_T10SFG_A043682_20231102T184854',\n",
              "  'IMG_DATA',\n",
              "  'R10m',\n",
              "  'T10SFG_20231102T184531_B03_10m.jp2'],\n",
              " ['S2A_MSIL2A_20231102T184531_N0509_R070_T10SFG_20231102T231756.SAFE',\n",
              "  'GRANULE',\n",
              "  'L2A_T10SFG_A043682_20231102T184854',\n",
              "  'IMG_DATA',\n",
              "  'R10m',\n",
              "  'T10SFG_20231102T184531_B04_10m.jp2'],\n",
              " ['S2A_MSIL2A_20231102T184531_N0509_R070_T10SFG_20231102T231756.SAFE',\n",
              "  'GRANULE',\n",
              "  'L2A_T10SFG_A043682_20231102T184854',\n",
              "  'IMG_DATA',\n",
              "  'R10m',\n",
              "  'T10SFG_20231102T184531_B08_10m.jp2']]"
            ]
          },
          "metadata": {},
          "execution_count": 20
        }
      ]
    },
    {
      "cell_type": "markdown",
      "source": [
        "Download the bands"
      ],
      "metadata": {
        "id": "2Hqp079U33jX"
      }
    },
    {
      "cell_type": "code",
      "source": [
        "# Build the url\n",
        "for band_node in band_path:\n",
        "    url_full = f\"{url_dataspace}/Products({product_id})/Nodes({product_name})/Nodes({band_node[1]})/Nodes({band_node[2]})/Nodes({band_node[3]})/Nodes({band_node[4]})/Nodes({band_node[5]})/$value\"\n",
        "    #print(url_full)\n",
        "    response = session.get(url_full, allow_redirects=False)\n",
        "    while response.status_code in (301, 302, 303, 307):\n",
        "        url_full_location = response.headers[\"Location\"]\n",
        "        response = session.get(url_full_location, allow_redirects=False)\n",
        "    file = session.get(url_full_location, verify=False, allow_redirects=True)\n",
        "    # Save the product\n",
        "    outfile =Path(\"/content/\"+band_node[5])\n",
        "    outfile.write_bytes(file.content)\n",
        "    print(\"Saved:\", band_node[5])"
      ],
      "metadata": {
        "colab": {
          "base_uri": "https://localhost:8080/"
        },
        "id": "W19Hf2o_3r_d",
        "outputId": "80c5b0c1-dced-48f7-dbe8-b59807c7c193"
      },
      "execution_count": null,
      "outputs": [
        {
          "output_type": "stream",
          "name": "stdout",
          "text": [
            "Saved: T10SFG_20231102T184531_B02_10m.jp2\n",
            "Saved: T10SFG_20231102T184531_B03_10m.jp2\n",
            "Saved: T10SFG_20231102T184531_B04_10m.jp2\n",
            "Saved: T10SFG_20231102T184531_B08_10m.jp2\n"
          ]
        }
      ]
    },
    {
      "cell_type": "code",
      "source": [
        "bands = [\n",
        "\"T10SFG_20231102T184531_B02_10m.jp2\",\n",
        "\"T10SFG_20231102T184531_B03_10m.jp2\",\n",
        "\"T10SFG_20231102T184531_B04_10m.jp2\",\n",
        "]"
      ],
      "metadata": {
        "id": "GtcNmNLq4jvT"
      },
      "execution_count": null,
      "outputs": []
    },
    {
      "cell_type": "code",
      "source": [
        "data = []\n",
        "for band in bands:\n",
        "    with rasterio.open(band) as src:\n",
        "        data.append(src.read(1))\n",
        "\n",
        "data = np.stack(data, axis=-1)"
      ],
      "metadata": {
        "id": "l63Jzwi35epa"
      },
      "execution_count": null,
      "outputs": []
    },
    {
      "cell_type": "markdown",
      "source": [
        "## Standardize Data"
      ],
      "metadata": {
        "id": "1DZ5olEh6rHi"
      }
    },
    {
      "cell_type": "code",
      "source": [
        "mean = np.mean(data, axis=(0, 1))\n",
        "centered_data = data - mean\n",
        "standardized_data = centered_data / np.std(centered_data, axis=(0, 1))"
      ],
      "metadata": {
        "id": "3XC_jYRI6Zzr"
      },
      "execution_count": null,
      "outputs": []
    },
    {
      "cell_type": "code",
      "source": [
        "# Print shape of the data array after standardization\n",
        "print(\"Standardized data shape:\", standardized_data.shape)"
      ],
      "metadata": {
        "colab": {
          "base_uri": "https://localhost:8080/"
        },
        "id": "yf0BsJ4169VJ",
        "outputId": "24c50e20-1c43-426b-8556-eb312f6d1cd0"
      },
      "execution_count": null,
      "outputs": [
        {
          "output_type": "stream",
          "name": "stdout",
          "text": [
            "Standardized data shape: (10980, 10980, 3)\n"
          ]
        }
      ]
    },
    {
      "cell_type": "markdown",
      "source": [
        "## Calculate Covariance Matrix\n",
        "Covariance: $\\sigma_{jk} = \\frac{1}{n-1}\\sum_{i=1}^{N}(x_{ij}-\\bar{x_j})(x_{ik}-\\bar{x_k})$\n",
        "\n",
        "Coviance matrix = $\\frac{1}{n-1}((X-\\bar{x})^T(X-\\bar{x}))$"
      ],
      "metadata": {
        "id": "hrw4zKx_7CEV"
      }
    },
    {
      "cell_type": "code",
      "source": [
        "covariance_matrix = np.cov(standardized_data.reshape(-1, standardized_data.shape[-1]).T)\n",
        "\n",
        "print(\"Covariance Matrix: \\n\",covariance_matrix)"
      ],
      "metadata": {
        "colab": {
          "base_uri": "https://localhost:8080/"
        },
        "id": "10YMBXrP7Dwu",
        "outputId": "47ad0100-7fde-463b-9fbf-ecde47b21f05"
      },
      "execution_count": null,
      "outputs": [
        {
          "output_type": "stream",
          "name": "stdout",
          "text": [
            "Covariance Matrix: \n",
            " [[1.00000001 0.9972695  0.98380118]\n",
            " [0.9972695  1.00000001 0.99144208]\n",
            " [0.98380118 0.99144208 1.00000001]]\n"
          ]
        }
      ]
    },
    {
      "cell_type": "markdown",
      "source": [
        "## Perform PCA\n",
        "\n",
        "Compute the Eigenvectors and Eigenvalues\n",
        "Eigendecomposition of the covriance matrix =  $PDP^{-1}$"
      ],
      "metadata": {
        "id": "WIxAV_AK7PPi"
      }
    },
    {
      "cell_type": "code",
      "source": [
        "# Calculate eigenvalues and eigenvectors\n",
        "eigenvalues, eigenvectors = np.linalg.eig(covariance_matrix)\n",
        "\n",
        "# Sort eigenvalues and eigenvectors in descending order\n",
        "sorted_indices = np.argsort(eigenvalues)[::-1]\n",
        "eigenvalues = eigenvalues[sorted_indices]\n",
        "eigenvectors = eigenvectors[:, sorted_indices]\n",
        "\n",
        "# Select desired number of principal components\n",
        "n_components = 2\n",
        "\n",
        "# Select top n_components eigenvectors\n",
        "principal_components = eigenvectors[:, :n_components]\n",
        "\n",
        "# Project data onto principal components\n",
        "projected_data = standardized_data @ principal_components\n",
        "\n",
        "# Calculate explained variance ratio\n",
        "explained_variance_ratio = eigenvalues[:n_components] / np.sum(eigenvalues)\n",
        "\n",
        "# Print results\n",
        "print(\"Original data shape:\", data.shape)\n",
        "print(\"Standardized data shape:\", standardized_data.shape)\n",
        "print(\"Eigenvalues:\", eigenvalues)\n",
        "print(\"Explained variance ratio:\", explained_variance_ratio)\n",
        "print(\"Projected data shape:\", projected_data.shape)"
      ],
      "metadata": {
        "colab": {
          "base_uri": "https://localhost:8080/"
        },
        "id": "t7k97iBk7dAz",
        "outputId": "2cab9631-6d97-439a-a01f-708b5fb78c50"
      },
      "execution_count": null,
      "outputs": [
        {
          "output_type": "stream",
          "name": "stdout",
          "text": [
            "Original data shape: (10980, 10980, 3)\n",
            "Standardized data shape: (10980, 10980, 3)\n",
            "Eigenvalues: [2.98168541e+00 1.69578774e-02 1.35673702e-03]\n",
            "Explained variance ratio: [0.99389513 0.00565263]\n",
            "Projected data shape: (10980, 10980, 2)\n"
          ]
        }
      ]
    },
    {
      "cell_type": "code",
      "source": [
        "# Calculate explained variance ratio\n",
        "explained_variance_ratio = eigenvalues / np.sum(eigenvalues)\n",
        "\n",
        "# Plot the bar graph\n",
        "plt.bar(range(1, len(explained_variance_ratio) + 1), explained_variance_ratio)\n",
        "plt.xlabel('Principal Component')\n",
        "plt.ylabel('Explained Variance Ratio')\n",
        "plt.title('Explained Variance Ratio for Principal Components')\n",
        "plt.show()"
      ],
      "metadata": {
        "colab": {
          "base_uri": "https://localhost:8080/",
          "height": 472
        },
        "id": "HsRehyZP7mIG",
        "outputId": "3d8d8801-6f42-4a38-f0a0-8f02a6b31ddb"
      },
      "execution_count": null,
      "outputs": [
        {
          "output_type": "display_data",
          "data": {
            "text/plain": [
              "<Figure size 640x480 with 1 Axes>"
            ],
            "image/png": "[encoded data removed]"
          },
          "metadata": {}
        }
      ]
    },
    {
      "cell_type": "code",
      "source": [
        "# Visualize scatter plot of the first two principal components\n",
        "plt.scatter(projected_data[:, 0], projected_data[:, 1])\n",
        "plt.title(\"Projection onto First Two Principal Components\")\n",
        "plt.xlabel(\"Principal Component 1\")\n",
        "plt.ylabel(\"Principal Component 2\")\n",
        "plt.show()"
      ],
      "metadata": {
        "colab": {
          "base_uri": "https://localhost:8080/",
          "height": 472
        },
        "id": "d1oSIrOh72SC",
        "outputId": "9028b351-cb99-4418-dff4-7d2673dc5a94"
      },
      "execution_count": null,
      "outputs": [
        {
          "output_type": "display_data",
          "data": {
            "text/plain": [
              "<Figure size 640x480 with 1 Axes>"
            ],
            "image/png": "[encoded data removed]"
          },
          "metadata": {}
        }
      ]
    }
  ]
}